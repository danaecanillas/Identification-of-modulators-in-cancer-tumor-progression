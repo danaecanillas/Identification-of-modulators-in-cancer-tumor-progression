{
 "metadata": {
  "orig_nbformat": 2,
  "kernelspec": {
   "name": "python3",
   "display_name": "Python 3",
   "language": "python"
  }
 },
 "nbformat": 4,
 "nbformat_minor": 2,
 "cells": [
  {
   "cell_type": "code",
   "execution_count": 42,
   "metadata": {},
   "outputs": [],
   "source": [
    "from sklearn.ensemble import RandomForestRegressor\n",
    "import pandas as pd\n",
    "from sklearn.model_selection import train_test_split\n",
    "from sklearn import linear_model\n",
    "from sklearn.kernel_ridge import KernelRidge\n",
    "from sklearn import svm"
   ]
  },
  {
   "cell_type": "code",
   "execution_count": 24,
   "metadata": {},
   "outputs": [],
   "source": [
    "def get_data(features):\n",
    "  data = \"data/generated/clean_train.csv\"\n",
    "  data = pd.read_csv(data)\n",
    "\n",
    "  X_train, X_test, y_train, y_test = train_test_split(data.loc[:, data.columns != \"RFS\"], data[\"RFS\"], test_size=1/3, random_state=47, stratify=data[\"RFS\"])\n",
    "  \n",
    "  return X_learn, y_learn, X_test, y_test"
   ]
  },
  {
   "cell_type": "code",
   "execution_count": 45,
   "metadata": {},
   "outputs": [
    {
     "output_type": "execute_result",
     "data": {
      "text/plain": [
       "-0.017646648712436486"
      ]
     },
     "metadata": {},
     "execution_count": 45
    }
   ],
   "source": [
    "data = \"data/generated/clean_train.csv\"\n",
    "features = ['B cells naive', 'B cells memory', 'Plasma cells', 'T cells CD8',\n",
    "      'T cells CD4 naive', 'T cells CD4 memory resting',\n",
    "      'T cells CD4 memory activated', 'T cells follicular helper',\n",
    "      'T cells regulatory (Tregs)', 'T cells gamma delta', 'NK cells resting',\n",
    "      'NK cells activated', 'Monocytes', 'Macrophages M0', 'Macrophages M1',\n",
    "      'Macrophages M2', 'Dendritic cells resting',\n",
    "      'Dendritic cells activated', 'Mast cells resting',\n",
    "      'Mast cells activated', 'Eosinophils', 'Neutrophils', 'Cell_Cycle',\n",
    "      'HIPPO', 'MYC', 'NOTCH', 'NRF2', 'PI3K', 'TGF.Beta', 'RTK_RAS', 'TP53',\n",
    "      'WNT', 'Hypoxia', 'SRC', 'ESR1', 'ERBB2', 'PROLIF']\n",
    "data = pd.read_csv(data)\n",
    "X = data[features]\n",
    "y = data[\"RFS\"]\n",
    "\n",
    "regr = svm.SVR(kernel='sigmoid')\n",
    "regr.fit(X, y)\n",
    "regr.score(X, y)"
   ]
  },
  {
   "cell_type": "code",
   "execution_count": 49,
   "metadata": {},
   "outputs": [
    {
     "output_type": "execute_result",
     "data": {
      "text/plain": [
       "      B cells naive  B cells memory  Plasma cells  T cells CD8  \\\n",
       "0          0.069373        0.000000      0.208345     0.000000   \n",
       "1          0.000000        0.064343      0.066266     0.066700   \n",
       "2          0.000000        0.103456      0.000760     0.179958   \n",
       "3          0.052183        0.000000      0.087170     0.000000   \n",
       "4          0.098869        0.000000      0.038915     0.046231   \n",
       "...             ...             ...           ...          ...   \n",
       "1748       0.100654        0.000000      0.059485     0.040332   \n",
       "1749       0.063419        0.028544      0.011797     0.058478   \n",
       "1750       0.177288        0.000000      0.079083     0.059766   \n",
       "1751       0.096277        0.067046      0.053489     0.150414   \n",
       "1752       0.129214        0.000000      0.142669     0.101911   \n",
       "\n",
       "      T cells CD4 naive  T cells CD4 memory resting  \\\n",
       "0              0.196418                    0.000000   \n",
       "1              0.000000                    0.167435   \n",
       "2              0.143445                    0.000000   \n",
       "3              0.000000                    0.105195   \n",
       "4              0.000000                    0.045777   \n",
       "...                 ...                         ...   \n",
       "1748           0.147938                    0.000000   \n",
       "1749           0.062116                    0.102514   \n",
       "1750           0.001085                    0.000000   \n",
       "1751           0.000000                    0.112773   \n",
       "1752           0.000000                    0.022224   \n",
       "\n",
       "      T cells CD4 memory activated  T cells follicular helper  \\\n",
       "0                         0.000000                   0.000000   \n",
       "1                         0.103641                   0.000000   \n",
       "2                         0.146302                   0.000000   \n",
       "3                         0.064576                   0.089692   \n",
       "4                         0.067479                   0.071380   \n",
       "...                            ...                        ...   \n",
       "1748                      0.127725                   0.102431   \n",
       "1749                      0.000000                   0.049919   \n",
       "1750                      0.002910                   0.142864   \n",
       "1751                      0.000000                   0.044067   \n",
       "1752                      0.023483                   0.059752   \n",
       "\n",
       "      T cells regulatory (Tregs)  T cells gamma delta  ...      PI3K  \\\n",
       "0                       0.000000             0.133225  ...  0.093630   \n",
       "1                       0.095029             0.000000  ...  0.129894   \n",
       "2                       0.000000             0.000000  ...  0.115049   \n",
       "3                       0.054062             0.000000  ...  0.032929   \n",
       "4                       0.022438             0.000000  ...  0.168431   \n",
       "...                          ...                  ...  ...       ...   \n",
       "1748                    0.011768             0.009902  ...  0.043287   \n",
       "1749                    0.000000             0.000000  ...  0.153221   \n",
       "1750                    0.000000             0.000000  ...  0.105211   \n",
       "1751                    0.049082             0.000000  ...  0.113551   \n",
       "1752                    0.048033             0.000000  ...  0.041615   \n",
       "\n",
       "      TGF.Beta   RTK_RAS      TP53       WNT   Hypoxia       SRC      ESR1  \\\n",
       "0     0.001246  0.077025  0.066971  0.116492  0.129336  0.065593  0.256584   \n",
       "1     0.089630  0.021881  0.010688  0.026485  0.164742  0.118744  0.041742   \n",
       "2     0.203844  0.129749  0.056657  0.041397  0.077187  0.057703  0.091374   \n",
       "3    -0.047324  0.071088  0.207390  0.022651  0.112319  0.056972  0.132446   \n",
       "4     0.175245  0.065058  0.131324  0.070335  0.151353  0.136010  0.141739   \n",
       "...        ...       ...       ...       ...       ...       ...       ...   \n",
       "1748  0.156833  0.016117  0.144418  0.070094  0.134973  0.039458  0.131513   \n",
       "1749  0.136681  0.207821  0.191304 -0.044407  0.062046  0.067952  0.166564   \n",
       "1750  0.067295 -0.018210  0.200338 -0.036043  0.083021  0.051930  0.216981   \n",
       "1751 -0.104019  0.115577  0.201445 -0.030574  0.084033  0.045381  0.258367   \n",
       "1752  0.041696 -0.038431  0.239423  0.058497  0.114072  0.051135 -0.064014   \n",
       "\n",
       "         ERBB2    PROLIF  \n",
       "0     0.025255 -0.342839  \n",
       "1     0.131698 -0.116098  \n",
       "2     0.111260 -0.094125  \n",
       "3     0.090420  0.293418  \n",
       "4     0.195456  0.620211  \n",
       "...        ...       ...  \n",
       "1748  0.067022 -0.319559  \n",
       "1749  0.236626  0.637091  \n",
       "1750  0.104431  0.421973  \n",
       "1751  0.104845  0.424003  \n",
       "1752  0.027683  0.647270  \n",
       "\n",
       "[1753 rows x 37 columns]"
      ],
      "text/html": "<div>\n<style scoped>\n    .dataframe tbody tr th:only-of-type {\n        vertical-align: middle;\n    }\n\n    .dataframe tbody tr th {\n        vertical-align: top;\n    }\n\n    .dataframe thead th {\n        text-align: right;\n    }\n</style>\n<table border=\"1\" class=\"dataframe\">\n  <thead>\n    <tr style=\"text-align: right;\">\n      <th></th>\n      <th>B cells naive</th>\n      <th>B cells memory</th>\n      <th>Plasma cells</th>\n      <th>T cells CD8</th>\n      <th>T cells CD4 naive</th>\n      <th>T cells CD4 memory resting</th>\n      <th>T cells CD4 memory activated</th>\n      <th>T cells follicular helper</th>\n      <th>T cells regulatory (Tregs)</th>\n      <th>T cells gamma delta</th>\n      <th>...</th>\n      <th>PI3K</th>\n      <th>TGF.Beta</th>\n      <th>RTK_RAS</th>\n      <th>TP53</th>\n      <th>WNT</th>\n      <th>Hypoxia</th>\n      <th>SRC</th>\n      <th>ESR1</th>\n      <th>ERBB2</th>\n      <th>PROLIF</th>\n    </tr>\n  </thead>\n  <tbody>\n    <tr>\n      <th>0</th>\n      <td>0.069373</td>\n      <td>0.000000</td>\n      <td>0.208345</td>\n      <td>0.000000</td>\n      <td>0.196418</td>\n      <td>0.000000</td>\n      <td>0.000000</td>\n      <td>0.000000</td>\n      <td>0.000000</td>\n      <td>0.133225</td>\n      <td>...</td>\n      <td>0.093630</td>\n      <td>0.001246</td>\n      <td>0.077025</td>\n      <td>0.066971</td>\n      <td>0.116492</td>\n      <td>0.129336</td>\n      <td>0.065593</td>\n      <td>0.256584</td>\n      <td>0.025255</td>\n      <td>-0.342839</td>\n    </tr>\n    <tr>\n      <th>1</th>\n      <td>0.000000</td>\n      <td>0.064343</td>\n      <td>0.066266</td>\n      <td>0.066700</td>\n      <td>0.000000</td>\n      <td>0.167435</td>\n      <td>0.103641</td>\n      <td>0.000000</td>\n      <td>0.095029</td>\n      <td>0.000000</td>\n      <td>...</td>\n      <td>0.129894</td>\n      <td>0.089630</td>\n      <td>0.021881</td>\n      <td>0.010688</td>\n      <td>0.026485</td>\n      <td>0.164742</td>\n      <td>0.118744</td>\n      <td>0.041742</td>\n      <td>0.131698</td>\n      <td>-0.116098</td>\n    </tr>\n    <tr>\n      <th>2</th>\n      <td>0.000000</td>\n      <td>0.103456</td>\n      <td>0.000760</td>\n      <td>0.179958</td>\n      <td>0.143445</td>\n      <td>0.000000</td>\n      <td>0.146302</td>\n      <td>0.000000</td>\n      <td>0.000000</td>\n      <td>0.000000</td>\n      <td>...</td>\n      <td>0.115049</td>\n      <td>0.203844</td>\n      <td>0.129749</td>\n      <td>0.056657</td>\n      <td>0.041397</td>\n      <td>0.077187</td>\n      <td>0.057703</td>\n      <td>0.091374</td>\n      <td>0.111260</td>\n      <td>-0.094125</td>\n    </tr>\n    <tr>\n      <th>3</th>\n      <td>0.052183</td>\n      <td>0.000000</td>\n      <td>0.087170</td>\n      <td>0.000000</td>\n      <td>0.000000</td>\n      <td>0.105195</td>\n      <td>0.064576</td>\n      <td>0.089692</td>\n      <td>0.054062</td>\n      <td>0.000000</td>\n      <td>...</td>\n      <td>0.032929</td>\n      <td>-0.047324</td>\n      <td>0.071088</td>\n      <td>0.207390</td>\n      <td>0.022651</td>\n      <td>0.112319</td>\n      <td>0.056972</td>\n      <td>0.132446</td>\n      <td>0.090420</td>\n      <td>0.293418</td>\n    </tr>\n    <tr>\n      <th>4</th>\n      <td>0.098869</td>\n      <td>0.000000</td>\n      <td>0.038915</td>\n      <td>0.046231</td>\n      <td>0.000000</td>\n      <td>0.045777</td>\n      <td>0.067479</td>\n      <td>0.071380</td>\n      <td>0.022438</td>\n      <td>0.000000</td>\n      <td>...</td>\n      <td>0.168431</td>\n      <td>0.175245</td>\n      <td>0.065058</td>\n      <td>0.131324</td>\n      <td>0.070335</td>\n      <td>0.151353</td>\n      <td>0.136010</td>\n      <td>0.141739</td>\n      <td>0.195456</td>\n      <td>0.620211</td>\n    </tr>\n    <tr>\n      <th>...</th>\n      <td>...</td>\n      <td>...</td>\n      <td>...</td>\n      <td>...</td>\n      <td>...</td>\n      <td>...</td>\n      <td>...</td>\n      <td>...</td>\n      <td>...</td>\n      <td>...</td>\n      <td>...</td>\n      <td>...</td>\n      <td>...</td>\n      <td>...</td>\n      <td>...</td>\n      <td>...</td>\n      <td>...</td>\n      <td>...</td>\n      <td>...</td>\n      <td>...</td>\n      <td>...</td>\n    </tr>\n    <tr>\n      <th>1748</th>\n      <td>0.100654</td>\n      <td>0.000000</td>\n      <td>0.059485</td>\n      <td>0.040332</td>\n      <td>0.147938</td>\n      <td>0.000000</td>\n      <td>0.127725</td>\n      <td>0.102431</td>\n      <td>0.011768</td>\n      <td>0.009902</td>\n      <td>...</td>\n      <td>0.043287</td>\n      <td>0.156833</td>\n      <td>0.016117</td>\n      <td>0.144418</td>\n      <td>0.070094</td>\n      <td>0.134973</td>\n      <td>0.039458</td>\n      <td>0.131513</td>\n      <td>0.067022</td>\n      <td>-0.319559</td>\n    </tr>\n    <tr>\n      <th>1749</th>\n      <td>0.063419</td>\n      <td>0.028544</td>\n      <td>0.011797</td>\n      <td>0.058478</td>\n      <td>0.062116</td>\n      <td>0.102514</td>\n      <td>0.000000</td>\n      <td>0.049919</td>\n      <td>0.000000</td>\n      <td>0.000000</td>\n      <td>...</td>\n      <td>0.153221</td>\n      <td>0.136681</td>\n      <td>0.207821</td>\n      <td>0.191304</td>\n      <td>-0.044407</td>\n      <td>0.062046</td>\n      <td>0.067952</td>\n      <td>0.166564</td>\n      <td>0.236626</td>\n      <td>0.637091</td>\n    </tr>\n    <tr>\n      <th>1750</th>\n      <td>0.177288</td>\n      <td>0.000000</td>\n      <td>0.079083</td>\n      <td>0.059766</td>\n      <td>0.001085</td>\n      <td>0.000000</td>\n      <td>0.002910</td>\n      <td>0.142864</td>\n      <td>0.000000</td>\n      <td>0.000000</td>\n      <td>...</td>\n      <td>0.105211</td>\n      <td>0.067295</td>\n      <td>-0.018210</td>\n      <td>0.200338</td>\n      <td>-0.036043</td>\n      <td>0.083021</td>\n      <td>0.051930</td>\n      <td>0.216981</td>\n      <td>0.104431</td>\n      <td>0.421973</td>\n    </tr>\n    <tr>\n      <th>1751</th>\n      <td>0.096277</td>\n      <td>0.067046</td>\n      <td>0.053489</td>\n      <td>0.150414</td>\n      <td>0.000000</td>\n      <td>0.112773</td>\n      <td>0.000000</td>\n      <td>0.044067</td>\n      <td>0.049082</td>\n      <td>0.000000</td>\n      <td>...</td>\n      <td>0.113551</td>\n      <td>-0.104019</td>\n      <td>0.115577</td>\n      <td>0.201445</td>\n      <td>-0.030574</td>\n      <td>0.084033</td>\n      <td>0.045381</td>\n      <td>0.258367</td>\n      <td>0.104845</td>\n      <td>0.424003</td>\n    </tr>\n    <tr>\n      <th>1752</th>\n      <td>0.129214</td>\n      <td>0.000000</td>\n      <td>0.142669</td>\n      <td>0.101911</td>\n      <td>0.000000</td>\n      <td>0.022224</td>\n      <td>0.023483</td>\n      <td>0.059752</td>\n      <td>0.048033</td>\n      <td>0.000000</td>\n      <td>...</td>\n      <td>0.041615</td>\n      <td>0.041696</td>\n      <td>-0.038431</td>\n      <td>0.239423</td>\n      <td>0.058497</td>\n      <td>0.114072</td>\n      <td>0.051135</td>\n      <td>-0.064014</td>\n      <td>0.027683</td>\n      <td>0.647270</td>\n    </tr>\n  </tbody>\n</table>\n<p>1753 rows × 37 columns</p>\n</div>"
     },
     "metadata": {},
     "execution_count": 49
    }
   ],
   "source": [
    "X"
   ]
  }
 ]
}