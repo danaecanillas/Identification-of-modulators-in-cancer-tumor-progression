{
 "metadata": {
  "language_info": {
   "codemirror_mode": {
    "name": "ipython",
    "version": 3
   },
   "file_extension": ".py",
   "mimetype": "text/x-python",
   "name": "python",
   "nbconvert_exporter": "python",
   "pygments_lexer": "ipython3",
   "version": "3.8.5-final"
  },
  "orig_nbformat": 2,
  "kernelspec": {
   "name": "python3",
   "display_name": "Python 3",
   "language": "python"
  }
 },
 "nbformat": 4,
 "nbformat_minor": 2,
 "cells": [
  {
   "cell_type": "code",
   "execution_count": 11,
   "metadata": {},
   "outputs": [],
   "source": [
    "import pandas as pd\n",
    "import numpy\n",
    "import json\n",
    "import matplotlib\n",
    "\n",
    "DATA_PATH = \"data/generated/train.csv\"\n",
    "GENERATED_FOLDER = \"data/generated/\"\n",
    "\n",
    "df = pd.read_csv(DATA_PATH)"
   ]
  },
  {
   "cell_type": "code",
   "execution_count": 12,
   "metadata": {
    "tags": []
   },
   "outputs": [],
   "source": [
    "def treatment(x):\n",
    "    ht = 0\n",
    "    rt = 0\n",
    "    ct = 0\n",
    "    Treatment = x.split(\"/\")\n",
    "    if 'HT' in Treatment:\n",
    "        ht = 1\n",
    "    if 'RT' in Treatment:\n",
    "        rt = 1\n",
    "    if 'CT' in Treatment:\n",
    "        ct = 1\n",
    "    return ht, rt, ct\n",
    "\n",
    "df[\"HT\"], df[\"RT\"], df[\"CT\"] = zip(*df[\"Treatment\"].map(treatment))"
   ]
  },
  {
   "cell_type": "code",
   "execution_count": 13,
   "metadata": {},
   "outputs": [
    {
     "output_type": "execute_result",
     "data": {
      "text/plain": [
       "     submitter  B cells naive  B cells memory  Plasma cells  T cells CD8  \\\n",
       "0      MB-0002       0.069373        0.000000      0.208345     0.000000   \n",
       "1      MB-0005       0.000000        0.064343      0.066266     0.066700   \n",
       "2      MB-0006       0.000000        0.103456      0.000760     0.179958   \n",
       "3      MB-0008       0.052183        0.000000      0.087170     0.000000   \n",
       "4      MB-0010       0.098869        0.000000      0.038915     0.046231   \n",
       "...        ...            ...             ...           ...          ...   \n",
       "1774   MB-7295       0.100654        0.000000      0.059485     0.040332   \n",
       "1775   MB-7296       0.063419        0.028544      0.011797     0.058478   \n",
       "1776   MB-7297       0.177288        0.000000      0.079083     0.059766   \n",
       "1777   MB-7298       0.096277        0.067046      0.053489     0.150414   \n",
       "1778   MB-7299       0.129214        0.000000      0.142669     0.101911   \n",
       "\n",
       "      T cells CD4 naive  T cells CD4 memory resting  \\\n",
       "0              0.196418                    0.000000   \n",
       "1              0.000000                    0.167435   \n",
       "2              0.143445                    0.000000   \n",
       "3              0.000000                    0.105195   \n",
       "4              0.000000                    0.045777   \n",
       "...                 ...                         ...   \n",
       "1774           0.147938                    0.000000   \n",
       "1775           0.062116                    0.102514   \n",
       "1776           0.001085                    0.000000   \n",
       "1777           0.000000                    0.112773   \n",
       "1778           0.000000                    0.022224   \n",
       "\n",
       "      T cells CD4 memory activated  T cells follicular helper  \\\n",
       "0                         0.000000                   0.000000   \n",
       "1                         0.103641                   0.000000   \n",
       "2                         0.146302                   0.000000   \n",
       "3                         0.064576                   0.089692   \n",
       "4                         0.067479                   0.071380   \n",
       "...                            ...                        ...   \n",
       "1774                      0.127725                   0.102431   \n",
       "1775                      0.000000                   0.049919   \n",
       "1776                      0.002910                   0.142864   \n",
       "1777                      0.000000                   0.044067   \n",
       "1778                      0.023483                   0.059752   \n",
       "\n",
       "      T cells regulatory (Tregs)  ...  lymph_nodes_positive  Treatment  \\\n",
       "0                       0.000000  ...                   0.0      HT/RT   \n",
       "1                       0.095029  ...                   1.0      CT/HT   \n",
       "2                       0.000000  ...                   3.0   CT/HT/RT   \n",
       "3                       0.054062  ...                   8.0   CT/HT/RT   \n",
       "4                       0.022438  ...                   0.0      HT/RT   \n",
       "...                          ...  ...                   ...        ...   \n",
       "1774                    0.011768  ...                   1.0      HT/RT   \n",
       "1775                    0.000000  ...                   1.0         RT   \n",
       "1776                    0.000000  ...                  45.0      HT/RT   \n",
       "1777                    0.049082  ...                  12.0         HT   \n",
       "1778                    0.048033  ...                   1.0      HT/RT   \n",
       "\n",
       "      TP53.mut  PIK3CA.mut    NPI  CELLULARITY  INTCLUST  HT  RT  CT  \n",
       "0          MUT          WT  4.020         High      4ER+   1   1   0  \n",
       "1           WT         MUT  4.030         High         3   1   0   1  \n",
       "2           WT         MUT  4.050     Moderate         9   1   1   1  \n",
       "3          MUT          WT  6.080         High         9   1   1   1  \n",
       "4          MUT         MUT  4.062     Moderate         7   1   1   0  \n",
       "...        ...         ...    ...          ...       ...  ..  ..  ..  \n",
       "1774        WT         MUT  5.050         High         3   1   1   0  \n",
       "1775       MUT          WT  5.040         High         5   0   1   0  \n",
       "1776        WT          WT  6.050         High         1   1   1   0  \n",
       "1777        WT          WT  5.050     Moderate         1   1   0   0  \n",
       "1778        WT          WT  5.040         High        10   1   1   0  \n",
       "\n",
       "[1779 rows x 56 columns]"
      ],
      "text/html": "<div>\n<style scoped>\n    .dataframe tbody tr th:only-of-type {\n        vertical-align: middle;\n    }\n\n    .dataframe tbody tr th {\n        vertical-align: top;\n    }\n\n    .dataframe thead th {\n        text-align: right;\n    }\n</style>\n<table border=\"1\" class=\"dataframe\">\n  <thead>\n    <tr style=\"text-align: right;\">\n      <th></th>\n      <th>submitter</th>\n      <th>B cells naive</th>\n      <th>B cells memory</th>\n      <th>Plasma cells</th>\n      <th>T cells CD8</th>\n      <th>T cells CD4 naive</th>\n      <th>T cells CD4 memory resting</th>\n      <th>T cells CD4 memory activated</th>\n      <th>T cells follicular helper</th>\n      <th>T cells regulatory (Tregs)</th>\n      <th>...</th>\n      <th>lymph_nodes_positive</th>\n      <th>Treatment</th>\n      <th>TP53.mut</th>\n      <th>PIK3CA.mut</th>\n      <th>NPI</th>\n      <th>CELLULARITY</th>\n      <th>INTCLUST</th>\n      <th>HT</th>\n      <th>RT</th>\n      <th>CT</th>\n    </tr>\n  </thead>\n  <tbody>\n    <tr>\n      <th>0</th>\n      <td>MB-0002</td>\n      <td>0.069373</td>\n      <td>0.000000</td>\n      <td>0.208345</td>\n      <td>0.000000</td>\n      <td>0.196418</td>\n      <td>0.000000</td>\n      <td>0.000000</td>\n      <td>0.000000</td>\n      <td>0.000000</td>\n      <td>...</td>\n      <td>0.0</td>\n      <td>HT/RT</td>\n      <td>MUT</td>\n      <td>WT</td>\n      <td>4.020</td>\n      <td>High</td>\n      <td>4ER+</td>\n      <td>1</td>\n      <td>1</td>\n      <td>0</td>\n    </tr>\n    <tr>\n      <th>1</th>\n      <td>MB-0005</td>\n      <td>0.000000</td>\n      <td>0.064343</td>\n      <td>0.066266</td>\n      <td>0.066700</td>\n      <td>0.000000</td>\n      <td>0.167435</td>\n      <td>0.103641</td>\n      <td>0.000000</td>\n      <td>0.095029</td>\n      <td>...</td>\n      <td>1.0</td>\n      <td>CT/HT</td>\n      <td>WT</td>\n      <td>MUT</td>\n      <td>4.030</td>\n      <td>High</td>\n      <td>3</td>\n      <td>1</td>\n      <td>0</td>\n      <td>1</td>\n    </tr>\n    <tr>\n      <th>2</th>\n      <td>MB-0006</td>\n      <td>0.000000</td>\n      <td>0.103456</td>\n      <td>0.000760</td>\n      <td>0.179958</td>\n      <td>0.143445</td>\n      <td>0.000000</td>\n      <td>0.146302</td>\n      <td>0.000000</td>\n      <td>0.000000</td>\n      <td>...</td>\n      <td>3.0</td>\n      <td>CT/HT/RT</td>\n      <td>WT</td>\n      <td>MUT</td>\n      <td>4.050</td>\n      <td>Moderate</td>\n      <td>9</td>\n      <td>1</td>\n      <td>1</td>\n      <td>1</td>\n    </tr>\n    <tr>\n      <th>3</th>\n      <td>MB-0008</td>\n      <td>0.052183</td>\n      <td>0.000000</td>\n      <td>0.087170</td>\n      <td>0.000000</td>\n      <td>0.000000</td>\n      <td>0.105195</td>\n      <td>0.064576</td>\n      <td>0.089692</td>\n      <td>0.054062</td>\n      <td>...</td>\n      <td>8.0</td>\n      <td>CT/HT/RT</td>\n      <td>MUT</td>\n      <td>WT</td>\n      <td>6.080</td>\n      <td>High</td>\n      <td>9</td>\n      <td>1</td>\n      <td>1</td>\n      <td>1</td>\n    </tr>\n    <tr>\n      <th>4</th>\n      <td>MB-0010</td>\n      <td>0.098869</td>\n      <td>0.000000</td>\n      <td>0.038915</td>\n      <td>0.046231</td>\n      <td>0.000000</td>\n      <td>0.045777</td>\n      <td>0.067479</td>\n      <td>0.071380</td>\n      <td>0.022438</td>\n      <td>...</td>\n      <td>0.0</td>\n      <td>HT/RT</td>\n      <td>MUT</td>\n      <td>MUT</td>\n      <td>4.062</td>\n      <td>Moderate</td>\n      <td>7</td>\n      <td>1</td>\n      <td>1</td>\n      <td>0</td>\n    </tr>\n    <tr>\n      <th>...</th>\n      <td>...</td>\n      <td>...</td>\n      <td>...</td>\n      <td>...</td>\n      <td>...</td>\n      <td>...</td>\n      <td>...</td>\n      <td>...</td>\n      <td>...</td>\n      <td>...</td>\n      <td>...</td>\n      <td>...</td>\n      <td>...</td>\n      <td>...</td>\n      <td>...</td>\n      <td>...</td>\n      <td>...</td>\n      <td>...</td>\n      <td>...</td>\n      <td>...</td>\n      <td>...</td>\n    </tr>\n    <tr>\n      <th>1774</th>\n      <td>MB-7295</td>\n      <td>0.100654</td>\n      <td>0.000000</td>\n      <td>0.059485</td>\n      <td>0.040332</td>\n      <td>0.147938</td>\n      <td>0.000000</td>\n      <td>0.127725</td>\n      <td>0.102431</td>\n      <td>0.011768</td>\n      <td>...</td>\n      <td>1.0</td>\n      <td>HT/RT</td>\n      <td>WT</td>\n      <td>MUT</td>\n      <td>5.050</td>\n      <td>High</td>\n      <td>3</td>\n      <td>1</td>\n      <td>1</td>\n      <td>0</td>\n    </tr>\n    <tr>\n      <th>1775</th>\n      <td>MB-7296</td>\n      <td>0.063419</td>\n      <td>0.028544</td>\n      <td>0.011797</td>\n      <td>0.058478</td>\n      <td>0.062116</td>\n      <td>0.102514</td>\n      <td>0.000000</td>\n      <td>0.049919</td>\n      <td>0.000000</td>\n      <td>...</td>\n      <td>1.0</td>\n      <td>RT</td>\n      <td>MUT</td>\n      <td>WT</td>\n      <td>5.040</td>\n      <td>High</td>\n      <td>5</td>\n      <td>0</td>\n      <td>1</td>\n      <td>0</td>\n    </tr>\n    <tr>\n      <th>1776</th>\n      <td>MB-7297</td>\n      <td>0.177288</td>\n      <td>0.000000</td>\n      <td>0.079083</td>\n      <td>0.059766</td>\n      <td>0.001085</td>\n      <td>0.000000</td>\n      <td>0.002910</td>\n      <td>0.142864</td>\n      <td>0.000000</td>\n      <td>...</td>\n      <td>45.0</td>\n      <td>HT/RT</td>\n      <td>WT</td>\n      <td>WT</td>\n      <td>6.050</td>\n      <td>High</td>\n      <td>1</td>\n      <td>1</td>\n      <td>1</td>\n      <td>0</td>\n    </tr>\n    <tr>\n      <th>1777</th>\n      <td>MB-7298</td>\n      <td>0.096277</td>\n      <td>0.067046</td>\n      <td>0.053489</td>\n      <td>0.150414</td>\n      <td>0.000000</td>\n      <td>0.112773</td>\n      <td>0.000000</td>\n      <td>0.044067</td>\n      <td>0.049082</td>\n      <td>...</td>\n      <td>12.0</td>\n      <td>HT</td>\n      <td>WT</td>\n      <td>WT</td>\n      <td>5.050</td>\n      <td>Moderate</td>\n      <td>1</td>\n      <td>1</td>\n      <td>0</td>\n      <td>0</td>\n    </tr>\n    <tr>\n      <th>1778</th>\n      <td>MB-7299</td>\n      <td>0.129214</td>\n      <td>0.000000</td>\n      <td>0.142669</td>\n      <td>0.101911</td>\n      <td>0.000000</td>\n      <td>0.022224</td>\n      <td>0.023483</td>\n      <td>0.059752</td>\n      <td>0.048033</td>\n      <td>...</td>\n      <td>1.0</td>\n      <td>HT/RT</td>\n      <td>WT</td>\n      <td>WT</td>\n      <td>5.040</td>\n      <td>High</td>\n      <td>10</td>\n      <td>1</td>\n      <td>1</td>\n      <td>0</td>\n    </tr>\n  </tbody>\n</table>\n<p>1779 rows × 56 columns</p>\n</div>"
     },
     "metadata": {},
     "execution_count": 13
    }
   ],
   "source": [
    "df"
   ]
  },
  {
   "cell_type": "code",
   "execution_count": null,
   "metadata": {},
   "outputs": [],
   "source": []
  }
 ]
}